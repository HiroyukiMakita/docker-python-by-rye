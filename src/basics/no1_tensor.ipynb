{
 "cells": [
  {
   "attachments": {},
   "cell_type": "markdown",
   "metadata": {},
   "source": [
    "# テンソル\n",
    "    \n",
    "テンソルは、NDArray（Numpy 配列）で表現される、データの入れ物。\n",
    "格納されるのは基本的に数値データ。\n",
    "\n",
    "行列を任意の数の次元に対して一般化したものであり、\n",
    "ベクトル（1次元配列）は1階テンソル、行列（2次元配列）は2階テンソルという。\n",
    "\n",
    "数値を1つしか格納していないテンソルは、スカラーと呼ばれる。\n",
    "0階テンソルや、スカラーテンソルと呼ばれることもある。"
   ]
  },
  {
   "cell_type": "code",
   "execution_count": 14,
   "metadata": {},
   "outputs": [
    {
     "name": "stdout",
     "output_type": "stream",
     "text": [
      "15\n",
      "int64\n",
      "0\n"
     ]
    }
   ],
   "source": [
    "import numpy as np\n",
    "\n",
    "\"\"\"\n",
    "    Numpy のスカラー（0階テンソル）\n",
    "\"\"\"\n",
    "\n",
    "# 0階テンソルを生成\n",
    "scalar = np.array(15)\n",
    "\n",
    "# 出力\n",
    "print(scalar)\n",
    "# データ型の出力\n",
    "print(scalar.dtype)\n",
    "# 次元数の出力\n",
    "print(scalar.ndim)"
   ]
  },
  {
   "cell_type": "code",
   "execution_count": 15,
   "metadata": {},
   "outputs": [
    {
     "name": "stdout",
     "output_type": "stream",
     "text": [
      "[1 2 3]\n",
      "int64\n",
      "1\n",
      "2\n",
      "[  1   2 100]\n"
     ]
    }
   ],
   "source": [
    "\"\"\"\n",
    "    Numpy のベクトル（1階テンソル）\n",
    "    \n",
    "    線形代数では、「要素を縦または横に一列に並べたもの」をベクトルと呼ぶ。\n",
    "    これは Numpy の1次元配列なので、1階テンソル。\n",
    "\"\"\"\n",
    "\n",
    "vector = np.array([1, 2, 3])\n",
    "\n",
    "# 出力\n",
    "print(vector)\n",
    "# データ型の出力\n",
    "print(vector.dtype)\n",
    "# 次元数の出力\n",
    "print(vector.ndim)\n",
    "\n",
    "# ベクトルの要素を参照\n",
    "print(vector[1])\n",
    "\n",
    "# ベクトルの要素を変更\n",
    "vector[2] = 100\n",
    "print(vector)"
   ]
  },
  {
   "cell_type": "code",
   "execution_count": 16,
   "metadata": {},
   "outputs": [
    {
     "name": "stdout",
     "output_type": "stream",
     "text": [
      "[[10 15 20 25 30]\n",
      " [20 30 40 50 60]\n",
      " [50 53 56 59 62]]\n",
      "int64\n",
      "2\n",
      "(3, 5)\n"
     ]
    }
   ],
   "source": [
    "\"\"\"\n",
    "    Numpy の行列（2階テンソル）\n",
    "    \n",
    "    Numpy の2次元配列は行列。\n",
    "    すなわち2階テンソル。\n",
    "\"\"\"\n",
    "\n",
    "matrix = np.array(\n",
    "    [\n",
    "        [10, 15, 20, 25, 30],\n",
    "        [20, 30, 40, 50, 60],\n",
    "        [50, 53, 56, 59, 62],\n",
    "    ]\n",
    ")\n",
    "\n",
    "# 出力\n",
    "print(matrix)\n",
    "# データ型の出力\n",
    "print(matrix.dtype)\n",
    "# 次元数の出力\n",
    "print(matrix.ndim)\n",
    "\n",
    "# 行列の形状を出力\n",
    "print(matrix.shape)"
   ]
  },
  {
   "cell_type": "code",
   "execution_count": 19,
   "metadata": {},
   "outputs": [
    {
     "name": "stdout",
     "output_type": "stream",
     "text": [
      "[[[10 15 20 25 30]\n",
      "  [20 30 40 50 60]\n",
      "  [50 53 56 59 62]]\n",
      "\n",
      " [[10 15 20 25 30]\n",
      "  [20 30 40 50 60]\n",
      "  [50 53 56 59 62]]\n",
      "\n",
      " [[10 15 20 25 30]\n",
      "  [20 30 40 50 60]\n",
      "  [50 53 56 59 62]]]\n",
      "int64\n",
      "3\n",
      "(3, 3, 5)\n"
     ]
    }
   ],
   "source": [
    "\"\"\"\n",
    "    3階テンソルとより高階数のテンソル\n",
    "    \n",
    "    複数の行列を格納したものは、3階テンソル。\n",
    "    \n",
    "    \n",
    "    3階テンソルをまとめて4階テンソルを作ることも可能。\n",
    "    一般的にデータ分析や機械学習で扱うのは3階テンソルまでが多いが、\n",
    "    機械学習でカラー画像を扱う場合は4階テンソル、動画データを扱う場合は5階テンソルを使用することがある。\n",
    "\"\"\"\n",
    "\n",
    "matrix = np.array(\n",
    "    [\n",
    "        [\n",
    "            [10, 15, 20, 25, 30],\n",
    "            [20, 30, 40, 50, 60],\n",
    "            [50, 53, 56, 59, 62],\n",
    "        ],\n",
    "        [\n",
    "            [10, 15, 20, 25, 30],\n",
    "            [20, 30, 40, 50, 60],\n",
    "            [50, 53, 56, 59, 62],\n",
    "        ],\n",
    "        [\n",
    "            [10, 15, 20, 25, 30],\n",
    "            [20, 30, 40, 50, 60],\n",
    "            [50, 53, 56, 59, 62],\n",
    "        ],\n",
    "    ]\n",
    ")\n",
    "\n",
    "# 出力\n",
    "print(matrix)\n",
    "# データ型の出力\n",
    "print(matrix.dtype)\n",
    "# 次元数の出力\n",
    "print(matrix.ndim)\n",
    "\n",
    "# 行列の形状を出力\n",
    "print(matrix.shape)"
   ]
  }
 ],
 "metadata": {
  "kernelspec": {
   "display_name": ".venv",
   "language": "python",
   "name": "python3"
  },
  "language_info": {
   "codemirror_mode": {
    "name": "ipython",
    "version": 3
   },
   "file_extension": ".py",
   "mimetype": "text/x-python",
   "name": "python",
   "nbconvert_exporter": "python",
   "pygments_lexer": "ipython3",
   "version": "3.11.4"
  },
  "orig_nbformat": 4
 },
 "nbformat": 4,
 "nbformat_minor": 2
}
