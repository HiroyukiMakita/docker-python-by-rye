{
 "cells": [
  {
   "attachments": {},
   "cell_type": "markdown",
   "metadata": {},
   "source": [
    "# 行列の計算\n",
    "\n",
    "Numpy の2次元配列で行列を表現できる。  \n",
    "行列は行と列の2つの軸を持つため、2階テンソルとなる。  \n",
    "\n",
    "ここでは、線形代数の基本に基づき、行列の演算方法のうちデータサイエンスで必要になる部分のみをみていく。\n",
    "\n",
    "# 行列の構造\n",
    "\n",
    "$a = \\begin{pmatrix} \\ \\ 1 \\ \\ \\ 5 \\\\ 10 \\ 15 \\end{pmatrix}$\n",
    "\n",
    "$b = \\begin{pmatrix} 1 \\ 5 \\ 7 \\\\ 8 \\ 3 \\ 9 \\end{pmatrix}$\n",
    "\n",
    "このように、（）の中に数を並べると、それが行列になる。  \n",
    "横の並びを「`行`」、縦の並びを「`列`」と呼ぶ。  \n",
    "$a$ は2行2列、$b$ は2行3列の行列である。  \n",
    "\n",
    "縦に並んだ行の数と横に並んだ列の数が同じとき、`正方行列` という。\n",
    "\n",
    "### 行列の中身は「`成分`」という\n",
    "\n",
    "$\\begin{pmatrix} 2 \\ 1 \\ 6 \\\\ 4 \\ 7 \\ 5 \\\\ 5 \\ 2 \\ 9 \\end{pmatrix}$\n",
    "\n",
    "上記行列で、1行目3列目の「6」は、「`第1行、第3列の成分`」という。"
   ]
  },
  {
   "attachments": {},
   "cell_type": "markdown",
   "metadata": {},
   "source": [
    "# 行ベクトルや列ベクトルの形をした行列\n",
    "\n",
    "数学には、数字の組を表す「ベクトル」がある。\n",
    "数学のベクトルは、次のように数字の組が1行、または1列のどちらかだけになる。\n",
    "\n",
    "$c = \\begin{pmatrix} 5 \\ 8 \\ 2 \\ 6 \\end{pmatrix}$\n",
    "\n",
    "$d = \\begin{pmatrix} 3 \\\\ 5 \\\\ 4 \\end{pmatrix}$\n",
    "\n",
    "$c$ は行ベクトルであり、1行4列の行列でもある。  \n",
    "$d$ は列ベクトルであり、3行1列の行列でもある。\n"
   ]
  },
  {
   "attachments": {},
   "cell_type": "markdown",
   "metadata": {},
   "source": [
    "# Numpy では多次元配列で行列を表現する"
   ]
  },
  {
   "cell_type": "code",
   "execution_count": 1,
   "metadata": {},
   "outputs": [
    {
     "name": "stdout",
     "output_type": "stream",
     "text": [
      "[[1. 2. 3.]\n",
      " [4. 5. 6.]\n",
      " [7. 8. 9.]]\n"
     ]
    }
   ],
   "source": [
    "import numpy as np\n",
    "\n",
    "# 3行3列の行列を作成\n",
    "matrix = np.array(\n",
    "    [\n",
    "        [1, 2, 3],\n",
    "        [4, 5, 6],\n",
    "        [7, 8, 9],\n",
    "    ],\n",
    "    dtype=float,\n",
    ")\n",
    "\n",
    "print(matrix)"
   ]
  },
  {
   "attachments": {},
   "cell_type": "markdown",
   "metadata": {},
   "source": [
    "# 行列のスカラー演算\n",
    "\n",
    "ベクトルと同様に、行列に対してスカラー演算を行うと、  \n",
    "行列のすべての成分に対して演算が行われる。"
   ]
  },
  {
   "cell_type": "code",
   "execution_count": 6,
   "metadata": {},
   "outputs": [
    {
     "name": "stdout",
     "output_type": "stream",
     "text": [
      "[[11. 12. 13.]\n",
      " [14. 15. 16.]\n",
      " [17. 18. 19.]]\n",
      "[[-9. -8. -7.]\n",
      " [-6. -5. -4.]\n",
      " [-3. -2. -1.]]\n",
      "[[ 2.  4.  6.]\n",
      " [ 8. 10. 12.]\n",
      " [14. 16. 18.]]\n",
      "[[0.5 1.  1.5]\n",
      " [2.  2.5 3. ]\n",
      " [3.5 4.  4.5]]\n"
     ]
    }
   ],
   "source": [
    "# スカラー演算（加算）\n",
    "print(matrix + 10)\n",
    "\n",
    "# スカラー演算（減算）\n",
    "print(matrix - 10)\n",
    "\n",
    "# スカラー演算（乗算）、定数倍ともいう\n",
    "print(matrix * 2)\n",
    "\n",
    "# スカラー演算（除算）\n",
    "print(matrix / 2)\n"
   ]
  },
  {
   "attachments": {},
   "cell_type": "markdown",
   "metadata": {},
   "source": [
    "# 行列の成分へのアクセス\n",
    "\n",
    "行列の成分（要素）にアクセスするには、リストと同様にブラケット `[]` を使用して以下のように指定する。\n",
    "\n",
    "`[行開始インデックス : 行終了インデックス, 列開始インデックス : 列終了インデックス]`"
   ]
  }
 ],
 "metadata": {
  "kernelspec": {
   "display_name": ".venv",
   "language": "python",
   "name": "python3"
  },
  "language_info": {
   "codemirror_mode": {
    "name": "ipython",
    "version": 3
   },
   "file_extension": ".py",
   "mimetype": "text/x-python",
   "name": "python",
   "nbconvert_exporter": "python",
   "pygments_lexer": "ipython3",
   "version": "3.11.4"
  },
  "orig_nbformat": 4
 },
 "nbformat": 4,
 "nbformat_minor": 2
}
