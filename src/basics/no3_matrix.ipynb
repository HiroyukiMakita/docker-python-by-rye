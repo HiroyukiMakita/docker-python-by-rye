{
 "cells": [
  {
   "attachments": {},
   "cell_type": "markdown",
   "metadata": {},
   "source": [
    "# 行列の計算\n",
    "\n",
    "Numpy の2次元配列で行列を表現できる。  \n",
    "行列は行と列の2つの軸を持つため、2階テンソルとなる。  \n",
    "\n",
    "ここでは、線形代数の基本に基づき、行列の演算方法のうちデータサイエンスで必要になる部分のみをみていく。\n",
    "\n",
    "# 行列の構造\n",
    "\n",
    "$a = \\begin{pmatrix} \\ \\ 1 \\ \\ \\ 5 \\\\ 10 \\ 15 \\end{pmatrix}$\n",
    "\n",
    "$b = \\begin{pmatrix} 1 \\ 5 \\ 7 \\\\ 8 \\ 3 \\ 9 \\end{pmatrix}$\n",
    "\n",
    "このように、（）の中に数を並べると、それが行列になる。  \n",
    "横の並びを「`行`」、縦の並びを「`列`」と呼ぶ。  \n",
    "$a$ は2行2列、$b$ は2行3列の行列である。  \n",
    "\n",
    "縦に並んだ行の数と横に並んだ列の数が同じとき、`正方行列` という。\n",
    "\n",
    "### 行列の中身は「`成分`」という\n",
    "\n",
    "$\\begin{pmatrix} 2 \\ 1 \\ 6 \\\\ 4 \\ 7 \\ 5 \\\\ 5 \\ 2 \\ 9 \\end{pmatrix}$\n",
    "\n",
    "上記行列で、1行目3列目の「6」は、「`第1行、第3列の成分`」という。"
   ]
  },
  {
   "attachments": {},
   "cell_type": "markdown",
   "metadata": {},
   "source": [
    "# 行ベクトルや列ベクトルの形をした行列\n",
    "\n",
    "数学には、数字の組を表す「ベクトル」がある。\n",
    "数学のベクトルは、次のように数字の組が1行、または1列のどちらかだけになる。\n",
    "\n",
    "$c = \\begin{pmatrix} 5 \\ 8 \\ 2 \\ 6 \\end{pmatrix}$\n",
    "\n",
    "$d = \\begin{pmatrix} 3 \\\\ 5 \\\\ 4 \\end{pmatrix}$\n",
    "\n",
    "$c$ は行ベクトルであり、1行4列の行列でもある。  \n",
    "$d$ は列ベクトルであり、3行1列の行列でもある。\n"
   ]
  },
  {
   "attachments": {},
   "cell_type": "markdown",
   "metadata": {},
   "source": [
    "# Numpy では多次元配列で行列を表現する"
   ]
  },
  {
   "cell_type": "code",
   "execution_count": 1,
   "metadata": {},
   "outputs": [
    {
     "name": "stdout",
     "output_type": "stream",
     "text": [
      "[[1. 2. 3.]\n",
      " [4. 5. 6.]\n",
      " [7. 8. 9.]]\n"
     ]
    }
   ],
   "source": [
    "import numpy as np\n",
    "\n",
    "# 3行3列の行列を作成\n",
    "matrix = np.array(\n",
    "    [\n",
    "        [1, 2, 3],\n",
    "        [4, 5, 6],\n",
    "        [7, 8, 9],\n",
    "    ],\n",
    "    dtype=float,\n",
    ")\n",
    "\n",
    "print(matrix)"
   ]
  },
  {
   "attachments": {},
   "cell_type": "markdown",
   "metadata": {},
   "source": [
    "# 行列のスカラー演算\n",
    "\n",
    "ベクトルと同様に、行列に対してスカラー演算を行うと、  \n",
    "行列のすべての成分に対して演算が行われる。"
   ]
  },
  {
   "cell_type": "code",
   "execution_count": 2,
   "metadata": {},
   "outputs": [
    {
     "name": "stdout",
     "output_type": "stream",
     "text": [
      "[[11. 12. 13.]\n",
      " [14. 15. 16.]\n",
      " [17. 18. 19.]]\n",
      "[[-9. -8. -7.]\n",
      " [-6. -5. -4.]\n",
      " [-3. -2. -1.]]\n",
      "[[ 2.  4.  6.]\n",
      " [ 8. 10. 12.]\n",
      " [14. 16. 18.]]\n",
      "[[0.5 1.  1.5]\n",
      " [2.  2.5 3. ]\n",
      " [3.5 4.  4.5]]\n"
     ]
    }
   ],
   "source": [
    "# スカラー演算（加算）\n",
    "print(matrix + 10)\n",
    "\n",
    "# スカラー演算（減算）\n",
    "print(matrix - 10)\n",
    "\n",
    "# スカラー演算（乗算）、定数倍ともいう\n",
    "print(matrix * 2)\n",
    "\n",
    "# スカラー演算（除算）\n",
    "print(matrix / 2)"
   ]
  },
  {
   "attachments": {},
   "cell_type": "markdown",
   "metadata": {},
   "source": [
    "# 行列の成分へのアクセス\n",
    "\n",
    "行列の成分（要素）にアクセスするには、リストと同様にブラケット `[]` を使用して以下のように指定する。\n",
    "\n",
    "`[行開始インデックス : 行終了インデックス, 列開始インデックス : 列終了インデックス]`"
   ]
  },
  {
   "cell_type": "code",
   "execution_count": 11,
   "metadata": {},
   "outputs": [
    {
     "name": "stdout",
     "output_type": "stream",
     "text": [
      "int64\n",
      "[1 2 3]\n",
      "[1 2 3]\n",
      "[1 4 7]\n",
      "5\n",
      "[[1 2]\n",
      " [4 5]]\n"
     ]
    }
   ],
   "source": [
    "matrix2 = np.array(\n",
    "    [\n",
    "        [1, 2, 3],\n",
    "        [4, 5, 6],\n",
    "        [7, 8, 9],\n",
    "    ]\n",
    ")\n",
    "\n",
    "print(matrix2.dtype)\n",
    "\n",
    "# 第1行の全ての成分を出力\n",
    "print(matrix2[0])\n",
    "print(matrix2[0,])\n",
    "\n",
    "# 第1列の全ての成分を出力\n",
    "print(matrix2[:, 0])\n",
    "\n",
    "# 2行2列の成分を出力\n",
    "print(matrix2[1, 1])\n",
    "\n",
    "# 1行 ～ 2行、1列 ～ 2列の部分行列を抽出\n",
    "print(matrix2[0:2, 0:2])"
   ]
  },
  {
   "attachments": {},
   "cell_type": "markdown",
   "metadata": {},
   "source": [
    "# 行列の成分同士の加算・減算\n",
    "\n",
    "行列に対してスカラー演算を行うと、ブロードキャストの仕組みにより、  \n",
    "すべての成分に同じ演算が適用される。\n",
    "\n",
    "$A = \\begin{pmatrix} 1 \\ 2 \\\\ 3 \\ 4 \\end{pmatrix}$\n",
    "\n",
    "$B = \\begin{pmatrix} 4 \\ 3 \\\\ 2 \\ 1 \\end{pmatrix}$\n",
    "\n",
    "上記の行列 A・B があるとする。\n",
    "\n",
    "A と B の足し算は以下のようになる。\n",
    "\n",
    "$A + B = \\begin{pmatrix} 1 \\ 2 \\\\ 3 \\ 4 \\end{pmatrix} + \\begin{pmatrix} 4 \\ 3 \\\\ 2 \\ 1 \\end{pmatrix} = \\begin{pmatrix} 1 + 4 \\ \\ \\ 2 + 3 \\\\ 3 + 2 \\ \\ \\ 4 + 1 \\end{pmatrix} = \\begin{pmatrix} 5 \\ 5 \\\\ 5 \\ 5 \\end{pmatrix}$\n",
    "\n",
    "A と B の引き算は以下のようになる。\n",
    "\n",
    "$A - B = \\begin{pmatrix} 1 \\ 2 \\\\ 3 \\ 4 \\end{pmatrix} - \\begin{pmatrix} 4 \\ 3 \\\\ 2 \\ 1 \\end{pmatrix} = \\begin{pmatrix} 1 - 4 \\ \\ \\ 2 - 3 \\\\ 3 - 2 \\ \\ \\ 4 - 1 \\end{pmatrix} = \\begin{pmatrix} -3 \\ \\ \\ -1 \\\\ \\ 1 \\ \\ \\ \\ \\ \\ \\ 3 \\end{pmatrix}$\n",
    "\n",
    "このように、行列の足し算と引き算は、「同じ行と列の成分同士を足し算または引き算」する。"
   ]
  },
  {
   "cell_type": "code",
   "execution_count": 12,
   "metadata": {},
   "outputs": [
    {
     "name": "stdout",
     "output_type": "stream",
     "text": [
      "[5 5 5 5]\n",
      "[-3 -1  1  3]\n"
     ]
    }
   ],
   "source": [
    "a = np.array([1, 2, 3, 4])\n",
    "b = np.array([4, 3, 2, 1])\n",
    "\n",
    "# 成分同士の足し算\n",
    "print(a + b)\n",
    "# 成分同士の引き算\n",
    "print(a - b)"
   ]
  },
  {
   "attachments": {},
   "cell_type": "markdown",
   "metadata": {},
   "source": [
    "# 行列のアダマール積\n",
    "\n",
    "行列の成分ごとの積を、行列のアダマール積という。"
   ]
  },
  {
   "cell_type": "code",
   "execution_count": 14,
   "metadata": {},
   "outputs": [
    {
     "name": "stdout",
     "output_type": "stream",
     "text": [
      "[4 6 6 4]\n",
      "[[1 2]\n",
      " [6 8]]\n"
     ]
    }
   ],
   "source": [
    "print(a * b)\n",
    "\n",
    "# 行列のアダマール積では、行列の形状が異なっていても、ブロードキャストの要件を満たせば計算が可能\n",
    "c = np.array(\n",
    "    [\n",
    "        [1],\n",
    "        [2],\n",
    "    ]\n",
    ")\n",
    "d = np.array(\n",
    "    [\n",
    "        [\n",
    "            1,\n",
    "            2,\n",
    "        ],\n",
    "        [\n",
    "            3,\n",
    "            4,\n",
    "        ],\n",
    "    ]\n",
    ")\n",
    "\n",
    "print(c * d)"
   ]
  },
  {
   "attachments": {},
   "cell_type": "markdown",
   "metadata": {},
   "source": [
    "# 行列の内積\n",
    "\n",
    "内積の計算は「行の順番の数と、列の順番の数が同じ成分同士を掛けて、足し上げる」こと。\n",
    "\n",
    "\n",
    "以下の横ベクトルと縦ベクトルの内積は、それぞれ(1, 2)行列、(2, 1)行列とみなして計算を行う必要がある\n",
    "\n",
    "$\\begin{pmatrix} 2 \\ 3 \\end{pmatrix} \\begin{pmatrix} 4 \\\\ 5 \\end{pmatrix} = 2・4 + 3・5 = 23$\n",
    "\n",
    "次に、(1, 2)行列と(2, 2)行列の内積の場合\n",
    "\n",
    "$\\begin{pmatrix} 1 \\ 2 \\end{pmatrix} \\begin{pmatrix} 3 \\ 4 \\\\ 5 \\ 6 \\end{pmatrix} = (1・3 + 2・5\\ \\ \\ \\ 1・4 + 2・6) = (13\\ \\ 16)$\n",
    "\n",
    "次に、(2, 2)行列と(2, 2)行列同士の内積\n",
    "\n",
    "$\\begin{pmatrix} 1 \\ 2 \\\\ 3 \\ 4 \\end{pmatrix} \\begin{pmatrix} 5 \\ 6 \\\\ 7 \\ 8 \\end{pmatrix} = \\begin{pmatrix}1・5 + 2・7 \\ \\ \\ \\ \\ 3・5 + 4・7 \\\\ 1・6 + 2・8 \\ \\ \\ \\ \\ 3・6 + 4・8\\end{pmatrix} = \\begin{pmatrix} 19 \\ 22 \\\\ 43 \\ 50 \\end{pmatrix}$"
   ]
  },
  {
   "cell_type": "code",
   "execution_count": 15,
   "metadata": {},
   "outputs": [
    {
     "data": {
      "text/plain": [
       "array([[19, 22],\n",
       "       [43, 50]])"
      ]
     },
     "execution_count": 15,
     "metadata": {},
     "output_type": "execute_result"
    }
   ],
   "source": [
    "m1 = np.array([[1, 2], [3, 4]])\n",
    "\n",
    "m2 = np.array([[5, 6], [7, 8]])\n",
    "\n",
    "# (2, 2)行列同士の内積を求める\n",
    "np.dot(m1, m2)"
   ]
  },
  {
   "attachments": {},
   "cell_type": "markdown",
   "metadata": {},
   "source": [
    "# 行と列を入れ替えて「転置行列」を作る\n",
    "\n",
    "行列の行と列を入れ替えたものを `転置行列` という。\n",
    "\n",
    "$A = \\begin{pmatrix} 1 \\ 2 \\ 3 \\\\ 4 \\ 5 \\ 6 \\end{pmatrix}$\n",
    "\n",
    "のとき、転置行列 $^t\\!A$ は以下のようになる。\n",
    "\n",
    "$^t\\!A = \\begin{pmatrix} 1 \\ 4 \\\\ 2 \\ 5 \\\\ 3 \\ 6 \\end{pmatrix}$\n"
   ]
  },
  {
   "cell_type": "code",
   "execution_count": 18,
   "metadata": {},
   "outputs": [
    {
     "name": "stdout",
     "output_type": "stream",
     "text": [
      "[[1 4]\n",
      " [2 5]\n",
      " [3 6]]\n",
      "[[1 4]\n",
      " [2 5]\n",
      " [3 6]]\n"
     ]
    }
   ],
   "source": [
    "mt = np.array(\n",
    "    [\n",
    "        [1, 2, 3],\n",
    "        [4, 5, 6],\n",
    "    ]\n",
    ")\n",
    "\n",
    "# transpose で転置行列を求める\n",
    "print(np.transpose(mt))\n",
    "\n",
    "# NDArray の T でも転置行列を求められる\n",
    "print(mt.T)"
   ]
  }
 ],
 "metadata": {
  "kernelspec": {
   "display_name": ".venv",
   "language": "python",
   "name": "python3"
  },
  "language_info": {
   "codemirror_mode": {
    "name": "ipython",
    "version": 3
   },
   "file_extension": ".py",
   "mimetype": "text/x-python",
   "name": "python",
   "nbconvert_exporter": "python",
   "pygments_lexer": "ipython3",
   "version": "3.11.4"
  },
  "orig_nbformat": 4
 },
 "nbformat": 4,
 "nbformat_minor": 2
}
