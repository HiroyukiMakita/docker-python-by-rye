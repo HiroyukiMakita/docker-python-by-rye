{
 "cells": [
  {
   "attachments": {},
   "cell_type": "markdown",
   "metadata": {},
   "source": [
    "# ベクトルの演算\n",
    "\n",
    "Numpy の1次元配列はベクトル（1階テンソル）である。\n",
    "\n",
    "ベクトルは、それぞれの要素数が同じであれば、それぞれの要素同士の演算ができる。\n",
    "ここではベクトルの演算を行う。"
   ]
  },
  {
   "cell_type": "code",
   "execution_count": 2,
   "metadata": {},
   "outputs": [
    {
     "name": "stdout",
     "output_type": "stream",
     "text": [
      "[5 7 9]\n",
      "[-3 -3 -3]\n",
      "[ 4 10 18]\n",
      "[0.25 0.4  0.5 ]\n"
     ]
    }
   ],
   "source": [
    "import numpy as np\n",
    "\n",
    "x1 = np.array([1, 2, 3])\n",
    "y1 = np.array([4, 5, 6])\n",
    "\n",
    "# ベクトル要素同士の加算\n",
    "print(x1 + y1)\n",
    "\n",
    "# ベクトル要素同士の減算\n",
    "print(x1 - y1)\n",
    "\n",
    "# ベクトル要素同士の掛け算\n",
    "print(x1 * y1)\n",
    "\n",
    "# ベクトル要素同士の割り算\n",
    "print(x1 / y1)"
   ]
  },
  {
   "attachments": {},
   "cell_type": "markdown",
   "metadata": {},
   "source": [
    "## ベクトルのスカラー演算\n",
    "\n",
    "数値を1つしか含まない0階テンソルをスカラーというが、  \n",
    "線形代数では、「大きさのみで表され、方向を持たない量」をスカラーという  \n",
    "\n",
    "Python のリストは1次元配列であり、全ての要素に同じ数を加えたり2倍にするような場合は、  \n",
    "for ループなどで処理を回す必要がある。  \n",
    "それに対して、Numpy の1次元配列であるベクトルは、for ループを使わずに一括処理が行える。  \n",
    "これは Numpy のブロードキャストと呼ばれる仕組みによって実現されている。  \n",
    "ベクトルに対して四則演算子でスカラー演算を行うと、全ての要素に対して演算が行われる。"
   ]
  },
  {
   "cell_type": "code",
   "execution_count": 3,
   "metadata": {},
   "outputs": [
    {
     "name": "stdout",
     "output_type": "stream",
     "text": [
      "[11. 12. 13. 14. 15.]\n",
      "[-9. -8. -7. -6. -5.]\n",
      "[10. 20. 30. 40. 50.]\n",
      "[0.1 0.2 0.3 0.4 0.5]\n"
     ]
    }
   ],
   "source": [
    "# データ型を指定して、ベクトルを作成\n",
    "x2 = np.array([1, 2, 3, 4, 5], dtype=float)\n",
    "# 0階テンソル（スカラーテンソル）を作成\n",
    "y2 = np.array(10)\n",
    "\n",
    "# ベクトルに対してスカラーテンソルを加算\n",
    "print(x2 + y2)\n",
    "\n",
    "# ベクトルに対してスカラーテンソルで減算\n",
    "print(x2 - y2)\n",
    "\n",
    "# ベクトルに対してスカラーテンソルを掛け算\n",
    "print(x2 * y2)\n",
    "\n",
    "# ベクトルに対してスカラーテンソルで割り算\n",
    "print(x2 / y2)"
   ]
  },
  {
   "attachments": {},
   "cell_type": "markdown",
   "metadata": {},
   "source": [
    "## ベクトル同士の四則演算\n",
    "\n",
    "ベクトル同士を四則演算しで演算すると、同じ次元の要素同士の演算が行われる。"
   ]
  },
  {
   "cell_type": "code",
   "execution_count": 4,
   "metadata": {},
   "outputs": [
    {
     "name": "stdout",
     "output_type": "stream",
     "text": [
      "[50 70 90]\n",
      "[-30 -30 -30]\n",
      "[ 400 1000 1800]\n",
      "[0.25 0.4  0.5 ]\n",
      "[ 40  80 120]\n"
     ]
    }
   ],
   "source": [
    "vec1 = np.array([10, 20, 30])\n",
    "vec2 = np.array([40, 50, 60])\n",
    "\n",
    "# ベクトル要素同士の加算\n",
    "print(vec1 + vec2)\n",
    "\n",
    "# ベクトル要素同士の減算\n",
    "print(vec1 - vec2)\n",
    "\n",
    "# ベクトル要素同士の掛け算\n",
    "print(vec1 * vec2)\n",
    "\n",
    "# ベクトル要素同士の割り算\n",
    "print(vec1 / vec2)\n",
    "\n",
    "# ベクトルの定数倍\n",
    "print(vec1 * 4)"
   ]
  },
  {
   "attachments": {},
   "cell_type": "markdown",
   "metadata": {},
   "source": [
    "## ベクトルのアダマール積\n",
    "\n",
    "要素の数が同じベクトル同士を掛け算すると、要素同士が掛け算される。\n",
    "これをベクトルのアダマール積という。"
   ]
  },
  {
   "cell_type": "code",
   "execution_count": 9,
   "metadata": {},
   "outputs": [
    {
     "name": "stdout",
     "output_type": "stream",
     "text": [
      "[ 400 1000 1800]\n"
     ]
    }
   ],
   "source": [
    "print(vec1 * vec2)"
   ]
  },
  {
   "attachments": {},
   "cell_type": "markdown",
   "metadata": {},
   "source": [
    "## ベクトルの内積\n",
    "\n",
    "ベクトル同士の要素の席を内積という。\n",
    "ベクトル a と b の内積は、真ん中に「・」を入れ、$a ・ b$ と表す\n",
    "\n",
    "$a = \\begin{pmatrix}2 \\\\ 3 \\end{pmatrix}$ と $b = \\begin{pmatrix}4 \\\\ 5 \\end{pmatrix}$ の内積は、  \n",
    "$a・b = \\begin{pmatrix}2 \\\\ 3 \\end{pmatrix}・\\begin{pmatrix}4 \\\\ 5 \\end{pmatrix}$ となり  \n",
    "$2・4 + 3・5 = 23$  \n",
    "のように、第1成分同士、第2成分同士を掛けて和を求める。\n"
   ]
  },
  {
   "cell_type": "code",
   "execution_count": 7,
   "metadata": {},
   "outputs": [
    {
     "data": {
      "text/plain": [
       "23"
      ]
     },
     "execution_count": 7,
     "metadata": {},
     "output_type": "execute_result"
    }
   ],
   "source": [
    "vector1 = np.array([2, 3])\n",
    "vector2 = np.array([4, 5])\n",
    "\n",
    "# vector1 と vector2 の内積を求める\n",
    "np.dot(vector1, vector2)"
   ]
  }
 ],
 "metadata": {
  "kernelspec": {
   "display_name": ".venv",
   "language": "python",
   "name": "python3"
  },
  "language_info": {
   "codemirror_mode": {
    "name": "ipython",
    "version": 3
   },
   "file_extension": ".py",
   "mimetype": "text/x-python",
   "name": "python",
   "nbconvert_exporter": "python",
   "pygments_lexer": "ipython3",
   "version": "3.11.4"
  },
  "orig_nbformat": 4
 },
 "nbformat": 4,
 "nbformat_minor": 2
}
